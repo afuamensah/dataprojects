{
 "cells": [
  {
   "cell_type": "markdown",
   "metadata": {},
   "source": [
    "# Questions and Hypothesis\n",
    "\n",
    "How do the creatures’ medical diagnostics and earth-year age range differ based on each planet?\n",
    "   - Because Boran and Radan are two completely different planets, the creatures on them will live two completely different lifestyles.\n",
    "   - This will include different climates, different atmospheres, different societies, including governments/leadership, and different health conditions. This should be taken into account if this insurance wants to be implemented on other planets.\n",
    "\n",
    "\n",
    "How do the non-human creatures’ medical diagnostics and earth-year age ranges on Boran and Radan differ compared to Earth’s human diagnostics and age range?\n",
    "   - The range of data that PBHCICI is gathering from Bodan and Radan has to be somewhat familiar to the range of data values on Earth, for each column. If the data overall is out of their range of field, it would be quite difficult to implement and adapt the range of insurance to them because they would have to figure out what is normal and abnormal based on each respective planet, and not on Earth’s terms.\n",
    "    \n",
    "Will the dataset results of Boran and Radan be adaptable enough to be implemented on those planets?\n",
    "\n",
    "**Hypothesis**: The results of the datasets on both Boran and Radan will differ greatly from each other and greatly from Earth."
   ]
  },
  {
   "cell_type": "markdown",
   "metadata": {},
   "source": [
    "# Attribute Definitions\n",
    "\n",
    "**Boran, Radan**\n",
    "\n",
    "   - Patient_id – The identifier of each non-human creature on the planet, denoted as a 4-5 digit number. It is the primary key of both the Boran table and Radan table.\n",
    "   - Blood pressure – The patient’s blood pressure measurement\n",
    "   - Exercise – measure of the amount of exercise a patient is getting\n",
    "   - Weight – measure of the patient’s weight\n",
    "   - Glucose – measure of the patient’s blood sugar\n",
    "   - BMI – Body mass index, measure of the patients weight (in grams) divided by the patient’s height (in meters)\n",
    "   - Planet_id – the identifying number for each of the planets. Boran is 1, Radan is 2.\n",
    "\n",
    "**deidentify_list_cross_ref**\n",
    "\n",
    "  - Patient_id - The identifier of each non-human creature on the planet, denoted as a 4-5 digit number. It is a foreign key that references the primary key patient_id in the Boran table and Radan table. \n",
    "  - Age – the creature’s age in earth-year life\n"
   ]
  },
  {
   "cell_type": "code",
   "execution_count": 2,
   "metadata": {},
   "outputs": [
    {
     "data": {
      "text/plain": [
       "<pandas._config.config.option_context at 0x2012bc022e0>"
      ]
     },
     "execution_count": 2,
     "metadata": {},
     "output_type": "execute_result"
    }
   ],
   "source": [
    "# Importing pandas to read data and numpy to read values, and plt for graphing the scatter plot\n",
    "\n",
    "import pandas as pd\n",
    "import numpy as np\n",
    "import matplotlib.pyplot as plt\n",
    "import scipy.stats as st\n",
    "\n",
    "from IPython.display import display\n",
    "pd.options.display.max_columns = 50\n",
    "pd.option_context('display.max_rows', 8)"
   ]
  },
  {
   "cell_type": "code",
   "execution_count": 3,
   "metadata": {},
   "outputs": [
    {
     "data": {
      "text/html": [
       "<div>\n",
       "<style scoped>\n",
       "    .dataframe tbody tr th:only-of-type {\n",
       "        vertical-align: middle;\n",
       "    }\n",
       "\n",
       "    .dataframe tbody tr th {\n",
       "        vertical-align: top;\n",
       "    }\n",
       "\n",
       "    .dataframe thead th {\n",
       "        text-align: right;\n",
       "    }\n",
       "</style>\n",
       "<table border=\"1\" class=\"dataframe\">\n",
       "  <thead>\n",
       "    <tr style=\"text-align: right;\">\n",
       "      <th></th>\n",
       "      <th>patient_id</th>\n",
       "      <th>age</th>\n",
       "      <th>blood_pressure</th>\n",
       "      <th>exercise</th>\n",
       "      <th>weight</th>\n",
       "      <th>glucose</th>\n",
       "      <th>bmi</th>\n",
       "      <th>planet_id</th>\n",
       "    </tr>\n",
       "  </thead>\n",
       "  <tbody>\n",
       "    <tr>\n",
       "      <th>0</th>\n",
       "      <td>41989</td>\n",
       "      <td>76.957462</td>\n",
       "      <td>191.853108</td>\n",
       "      <td>102.544295</td>\n",
       "      <td>141.588777</td>\n",
       "      <td>119.807890</td>\n",
       "      <td>0.988849</td>\n",
       "      <td>1</td>\n",
       "    </tr>\n",
       "    <tr>\n",
       "      <th>1</th>\n",
       "      <td>8248</td>\n",
       "      <td>74.242965</td>\n",
       "      <td>189.628666</td>\n",
       "      <td>90.167716</td>\n",
       "      <td>139.689556</td>\n",
       "      <td>118.206986</td>\n",
       "      <td>0.972132</td>\n",
       "      <td>1</td>\n",
       "    </tr>\n",
       "    <tr>\n",
       "      <th>2</th>\n",
       "      <td>83944</td>\n",
       "      <td>86.055427</td>\n",
       "      <td>199.378675</td>\n",
       "      <td>143.205239</td>\n",
       "      <td>148.036310</td>\n",
       "      <td>125.230960</td>\n",
       "      <td>1.045336</td>\n",
       "      <td>1</td>\n",
       "    </tr>\n",
       "    <tr>\n",
       "      <th>3</th>\n",
       "      <td>89103</td>\n",
       "      <td>75.937458</td>\n",
       "      <td>197.254505</td>\n",
       "      <td>24.853721</td>\n",
       "      <td>148.179116</td>\n",
       "      <td>124.319127</td>\n",
       "      <td>1.023199</td>\n",
       "      <td>1</td>\n",
       "    </tr>\n",
       "    <tr>\n",
       "      <th>4</th>\n",
       "      <td>92701</td>\n",
       "      <td>59.481521</td>\n",
       "      <td>174.605957</td>\n",
       "      <td>57.130236</td>\n",
       "      <td>125.934950</td>\n",
       "      <td>107.102617</td>\n",
       "      <td>0.862161</td>\n",
       "      <td>1</td>\n",
       "    </tr>\n",
       "  </tbody>\n",
       "</table>\n",
       "</div>"
      ],
      "text/plain": [
       "   patient_id        age  blood_pressure    exercise      weight     glucose  \\\n",
       "0       41989  76.957462      191.853108  102.544295  141.588777  119.807890   \n",
       "1        8248  74.242965      189.628666   90.167716  139.689556  118.206986   \n",
       "2       83944  86.055427      199.378675  143.205239  148.036310  125.230960   \n",
       "3       89103  75.937458      197.254505   24.853721  148.179116  124.319127   \n",
       "4       92701  59.481521      174.605957   57.130236  125.934950  107.102617   \n",
       "\n",
       "        bmi  planet_id  \n",
       "0  0.988849          1  \n",
       "1  0.972132          1  \n",
       "2  1.045336          1  \n",
       "3  1.023199          1  \n",
       "4  0.862161          1  "
      ]
     },
     "execution_count": 3,
     "metadata": {},
     "output_type": "execute_result"
    }
   ],
   "source": [
    "# Loading the planets table I exported from SQLite into Python\n",
    "\n",
    "planet = pd.read_csv('C:/Users/afuam/Documents/Senior Year/Fall Semester/Principles of Data Science/Planets.csv')\n",
    "planet.head()"
   ]
  },
  {
   "cell_type": "code",
   "execution_count": 13,
   "metadata": {},
   "outputs": [],
   "source": [
    "# Filtering the data by planet using planet_id since I will be providing table and graphing results for each planet\n",
    "\n",
    "boran = planet.query('planet_id == 1')\n",
    "radan = planet.query('planet_id == 2')"
   ]
  },
  {
   "cell_type": "markdown",
   "metadata": {},
   "source": [
    "# Attribute Descriptions\n",
    "\n",
    "**Boran**\n",
    "\n",
    "   - Patient_id – Unique categorical variable. 4-5 digit number.\n",
    "   - Age - Numerical variable, range (59.5, 87.3)\n",
    "   - Blood pressure – Numerical variable, range (168.0, 209.9)\n",
    "   - Exercise – Numerical variable, range (5.1, 228.9), abnormally large range\n",
    "   - Weight – Numerical variable, range (118.0, 160.6)\n",
    "   - Glucose – Numerical variable, range (101.6, 133.9)\n",
    "   - BMI – Numerical variable, range (0.81, 1.11)\n",
    "   - Planet_id – Categorical variable. An integer that auto-increments.\n",
    "\n",
    "**Radan**\n",
    "   - Patient_id – Unique categorical variable. 4-5 digit number.\n",
    "   - Age - Numerical variable, range (59.5, 87.3)\n",
    "   - Blood pressure – Numerical variable, range (168.0, 209.9)\n",
    "   - Exercise – Numerical variable, range (5.1, 228.9), abnormally large range\n",
    "   - Weight – Numerical variable, range (118.0, 160.6)\n",
    "   - Glucose – Numerical variable, range (101.6, 133.9)\n",
    "   - BMI – Numerical variable, range (0.81, 1.11)\n",
    "   - Planet_id – Categorical variable. An integer that auto-increments.\n"
   ]
  },
  {
   "cell_type": "code",
   "execution_count": 27,
   "metadata": {},
   "outputs": [
    {
     "data": {
      "text/html": [
       "<div>\n",
       "<style scoped>\n",
       "    .dataframe tbody tr th:only-of-type {\n",
       "        vertical-align: middle;\n",
       "    }\n",
       "\n",
       "    .dataframe tbody tr th {\n",
       "        vertical-align: top;\n",
       "    }\n",
       "\n",
       "    .dataframe thead th {\n",
       "        text-align: right;\n",
       "    }\n",
       "</style>\n",
       "<table border=\"1\" class=\"dataframe\">\n",
       "  <thead>\n",
       "    <tr style=\"text-align: right;\">\n",
       "      <th></th>\n",
       "      <th>patient_id</th>\n",
       "      <th>age</th>\n",
       "      <th>blood_pressure</th>\n",
       "      <th>exercise</th>\n",
       "      <th>weight</th>\n",
       "      <th>glucose</th>\n",
       "      <th>bmi</th>\n",
       "      <th>planet_id</th>\n",
       "    </tr>\n",
       "  </thead>\n",
       "  <tbody>\n",
       "    <tr>\n",
       "      <th>count</th>\n",
       "      <td>30.000000</td>\n",
       "      <td>30.000000</td>\n",
       "      <td>30.000000</td>\n",
       "      <td>30.000000</td>\n",
       "      <td>30.000000</td>\n",
       "      <td>30.000000</td>\n",
       "      <td>30.000000</td>\n",
       "      <td>30.0</td>\n",
       "    </tr>\n",
       "    <tr>\n",
       "      <th>mean</th>\n",
       "      <td>52421.300000</td>\n",
       "      <td>76.419431</td>\n",
       "      <td>193.632568</td>\n",
       "      <td>74.090198</td>\n",
       "      <td>143.812437</td>\n",
       "      <td>121.310649</td>\n",
       "      <td>1.000000</td>\n",
       "      <td>1.0</td>\n",
       "    </tr>\n",
       "    <tr>\n",
       "      <th>std</th>\n",
       "      <td>32425.383238</td>\n",
       "      <td>8.476798</td>\n",
       "      <td>10.744819</td>\n",
       "      <td>55.271606</td>\n",
       "      <td>10.642751</td>\n",
       "      <td>8.187990</td>\n",
       "      <td>0.076313</td>\n",
       "      <td>0.0</td>\n",
       "    </tr>\n",
       "    <tr>\n",
       "      <th>min</th>\n",
       "      <td>5231.000000</td>\n",
       "      <td>59.481521</td>\n",
       "      <td>168.038423</td>\n",
       "      <td>5.071321</td>\n",
       "      <td>118.051553</td>\n",
       "      <td>101.658343</td>\n",
       "      <td>0.819985</td>\n",
       "      <td>1.0</td>\n",
       "    </tr>\n",
       "    <tr>\n",
       "      <th>25%</th>\n",
       "      <td>19866.250000</td>\n",
       "      <td>70.286313</td>\n",
       "      <td>186.009547</td>\n",
       "      <td>28.702444</td>\n",
       "      <td>136.856140</td>\n",
       "      <td>115.683254</td>\n",
       "      <td>0.948012</td>\n",
       "      <td>1.0</td>\n",
       "    </tr>\n",
       "    <tr>\n",
       "      <th>50%</th>\n",
       "      <td>53724.500000</td>\n",
       "      <td>76.447460</td>\n",
       "      <td>195.145007</td>\n",
       "      <td>71.767815</td>\n",
       "      <td>145.439230</td>\n",
       "      <td>122.546964</td>\n",
       "      <td>1.009887</td>\n",
       "      <td>1.0</td>\n",
       "    </tr>\n",
       "    <tr>\n",
       "      <th>75%</th>\n",
       "      <td>83772.000000</td>\n",
       "      <td>84.757961</td>\n",
       "      <td>200.624363</td>\n",
       "      <td>97.071192</td>\n",
       "      <td>149.950593</td>\n",
       "      <td>126.364018</td>\n",
       "      <td>1.052331</td>\n",
       "      <td>1.0</td>\n",
       "    </tr>\n",
       "    <tr>\n",
       "      <th>max</th>\n",
       "      <td>94365.000000</td>\n",
       "      <td>87.262260</td>\n",
       "      <td>209.973069</td>\n",
       "      <td>228.903939</td>\n",
       "      <td>160.599282</td>\n",
       "      <td>133.964778</td>\n",
       "      <td>1.113857</td>\n",
       "      <td>1.0</td>\n",
       "    </tr>\n",
       "  </tbody>\n",
       "</table>\n",
       "</div>"
      ],
      "text/plain": [
       "         patient_id        age  blood_pressure    exercise      weight  \\\n",
       "count     30.000000  30.000000       30.000000   30.000000   30.000000   \n",
       "mean   52421.300000  76.419431      193.632568   74.090198  143.812437   \n",
       "std    32425.383238   8.476798       10.744819   55.271606   10.642751   \n",
       "min     5231.000000  59.481521      168.038423    5.071321  118.051553   \n",
       "25%    19866.250000  70.286313      186.009547   28.702444  136.856140   \n",
       "50%    53724.500000  76.447460      195.145007   71.767815  145.439230   \n",
       "75%    83772.000000  84.757961      200.624363   97.071192  149.950593   \n",
       "max    94365.000000  87.262260      209.973069  228.903939  160.599282   \n",
       "\n",
       "          glucose        bmi  planet_id  \n",
       "count   30.000000  30.000000       30.0  \n",
       "mean   121.310649   1.000000        1.0  \n",
       "std      8.187990   0.076313        0.0  \n",
       "min    101.658343   0.819985        1.0  \n",
       "25%    115.683254   0.948012        1.0  \n",
       "50%    122.546964   1.009887        1.0  \n",
       "75%    126.364018   1.052331        1.0  \n",
       "max    133.964778   1.113857        1.0  "
      ]
     },
     "execution_count": 27,
     "metadata": {},
     "output_type": "execute_result"
    }
   ],
   "source": [
    "boran.describe()"
   ]
  },
  {
   "cell_type": "code",
   "execution_count": 29,
   "metadata": {},
   "outputs": [
    {
     "data": {
      "text/plain": [
       "planet_id\n",
       "1    AxesSubplot(0.125,0.125;0.775x0.755)\n",
       "2    AxesSubplot(0.125,0.125;0.775x0.755)\n",
       "Name: age, dtype: object"
      ]
     },
     "execution_count": 29,
     "metadata": {},
     "output_type": "execute_result"
    },
    {
     "data": {
      "image/png": "[encoded data removed]",
      "text/plain": [
       "<Figure size 432x288 with 1 Axes>"
      ]
     },
     "metadata": {
      "needs_background": "light"
     },
     "output_type": "display_data"
    }
   ],
   "source": [
    "# Histogram for the earth-year life of planet Boran.\n",
    "\n",
    "planet.groupby('planet_id').age.hist(alpha=0.7)"
   ]
  },
  {
   "cell_type": "code",
   "execution_count": 11,
   "metadata": {},
   "outputs": [
    {
     "data": {
      "text/plain": [
       "<matplotlib.axes._subplots.AxesSubplot at 0x2012f24fa00>"
      ]
     },
     "execution_count": 11,
     "metadata": {},
     "output_type": "execute_result"
    },
    {
     "data": {
      "image/png": "[encoded data removed]",
      "text/plain": [
       "<Figure size 432x288 with 1 Axes>"
      ]
     },
     "metadata": {
      "needs_background": "light"
     },
     "output_type": "display_data"
    }
   ],
   "source": [
    "# Histogram for the earth-year life of planet Radan.\n",
    "\n",
    "radan['age'].plot.hist()"
   ]
  },
  {
   "cell_type": "code",
   "execution_count": 9,
   "metadata": {},
   "outputs": [
    {
     "data": {
      "text/html": [
       "<div>\n",
       "<style scoped>\n",
       "    .dataframe tbody tr th:only-of-type {\n",
       "        vertical-align: middle;\n",
       "    }\n",
       "\n",
       "    .dataframe tbody tr th {\n",
       "        vertical-align: top;\n",
       "    }\n",
       "\n",
       "    .dataframe thead th {\n",
       "        text-align: right;\n",
       "    }\n",
       "</style>\n",
       "<table border=\"1\" class=\"dataframe\">\n",
       "  <thead>\n",
       "    <tr style=\"text-align: right;\">\n",
       "      <th></th>\n",
       "      <th>age</th>\n",
       "    </tr>\n",
       "  </thead>\n",
       "  <tbody>\n",
       "    <tr>\n",
       "      <th>count</th>\n",
       "      <td>30.000000</td>\n",
       "    </tr>\n",
       "    <tr>\n",
       "      <th>mean</th>\n",
       "      <td>76.419431</td>\n",
       "    </tr>\n",
       "    <tr>\n",
       "      <th>std</th>\n",
       "      <td>8.476798</td>\n",
       "    </tr>\n",
       "    <tr>\n",
       "      <th>min</th>\n",
       "      <td>59.481521</td>\n",
       "    </tr>\n",
       "    <tr>\n",
       "      <th>25%</th>\n",
       "      <td>70.286313</td>\n",
       "    </tr>\n",
       "    <tr>\n",
       "      <th>50%</th>\n",
       "      <td>76.447460</td>\n",
       "    </tr>\n",
       "    <tr>\n",
       "      <th>75%</th>\n",
       "      <td>84.757961</td>\n",
       "    </tr>\n",
       "    <tr>\n",
       "      <th>max</th>\n",
       "      <td>87.262260</td>\n",
       "    </tr>\n",
       "  </tbody>\n",
       "</table>\n",
       "</div>"
      ],
      "text/plain": [
       "             age\n",
       "count  30.000000\n",
       "mean   76.419431\n",
       "std     8.476798\n",
       "min    59.481521\n",
       "25%    70.286313\n",
       "50%    76.447460\n",
       "75%    84.757961\n",
       "max    87.262260"
      ]
     },
     "execution_count": 9,
     "metadata": {},
     "output_type": "execute_result"
    }
   ],
   "source": [
    "# Describe table to show what the mean life expectancy is for Boran.\n",
    "\n",
    "boran[['age']].describe()"
   ]
  },
  {
   "cell_type": "code",
   "execution_count": 10,
   "metadata": {},
   "outputs": [
    {
     "data": {
      "text/html": [
       "<div>\n",
       "<style scoped>\n",
       "    .dataframe tbody tr th:only-of-type {\n",
       "        vertical-align: middle;\n",
       "    }\n",
       "\n",
       "    .dataframe tbody tr th {\n",
       "        vertical-align: top;\n",
       "    }\n",
       "\n",
       "    .dataframe thead th {\n",
       "        text-align: right;\n",
       "    }\n",
       "</style>\n",
       "<table border=\"1\" class=\"dataframe\">\n",
       "  <thead>\n",
       "    <tr style=\"text-align: right;\">\n",
       "      <th></th>\n",
       "      <th>age</th>\n",
       "    </tr>\n",
       "  </thead>\n",
       "  <tbody>\n",
       "    <tr>\n",
       "      <th>count</th>\n",
       "      <td>30.000000</td>\n",
       "    </tr>\n",
       "    <tr>\n",
       "      <th>mean</th>\n",
       "      <td>84.217069</td>\n",
       "    </tr>\n",
       "    <tr>\n",
       "      <th>std</th>\n",
       "      <td>6.977068</td>\n",
       "    </tr>\n",
       "    <tr>\n",
       "      <th>min</th>\n",
       "      <td>71.826780</td>\n",
       "    </tr>\n",
       "    <tr>\n",
       "      <th>25%</th>\n",
       "      <td>79.630264</td>\n",
       "    </tr>\n",
       "    <tr>\n",
       "      <th>50%</th>\n",
       "      <td>82.166353</td>\n",
       "    </tr>\n",
       "    <tr>\n",
       "      <th>75%</th>\n",
       "      <td>89.186006</td>\n",
       "    </tr>\n",
       "    <tr>\n",
       "      <th>max</th>\n",
       "      <td>99.544450</td>\n",
       "    </tr>\n",
       "  </tbody>\n",
       "</table>\n",
       "</div>"
      ],
      "text/plain": [
       "             age\n",
       "count  30.000000\n",
       "mean   84.217069\n",
       "std     6.977068\n",
       "min    71.826780\n",
       "25%    79.630264\n",
       "50%    82.166353\n",
       "75%    89.186006\n",
       "max    99.544450"
      ]
     },
     "execution_count": 10,
     "metadata": {},
     "output_type": "execute_result"
    }
   ],
   "source": [
    "# Describe table to show what the mean life expectancy is for Boran.\n",
    "\n",
    "radan[['age']].describe()"
   ]
  },
  {
   "cell_type": "code",
   "execution_count": 14,
   "metadata": {},
   "outputs": [
    {
     "data": {
      "text/plain": [
       "<matplotlib.axes._subplots.AxesSubplot at 0x2012f2d1f40>"
      ]
     },
     "execution_count": 14,
     "metadata": {},
     "output_type": "execute_result"
    },
    {
     "data": {
      "image/png": "[encoded data removed]",
      "text/plain": [
       "<Figure size 432x288 with 1 Axes>"
      ]
     },
     "metadata": {
      "needs_background": "light"
     },
     "output_type": "display_data"
    }
   ],
   "source": [
    "# Boxplot showing the blood pressure of Boran's data.\n",
    "\n",
    "boran['blood_pressure'].plot.box()"
   ]
  },
  {
   "cell_type": "code",
   "execution_count": 17,
   "metadata": {},
   "outputs": [
    {
     "data": {
      "text/html": [
       "<div>\n",
       "<style scoped>\n",
       "    .dataframe tbody tr th:only-of-type {\n",
       "        vertical-align: middle;\n",
       "    }\n",
       "\n",
       "    .dataframe tbody tr th {\n",
       "        vertical-align: top;\n",
       "    }\n",
       "\n",
       "    .dataframe thead th {\n",
       "        text-align: right;\n",
       "    }\n",
       "</style>\n",
       "<table border=\"1\" class=\"dataframe\">\n",
       "  <thead>\n",
       "    <tr style=\"text-align: right;\">\n",
       "      <th></th>\n",
       "      <th>blood_pressure</th>\n",
       "    </tr>\n",
       "  </thead>\n",
       "  <tbody>\n",
       "    <tr>\n",
       "      <th>count</th>\n",
       "      <td>30.000000</td>\n",
       "    </tr>\n",
       "    <tr>\n",
       "      <th>mean</th>\n",
       "      <td>193.632568</td>\n",
       "    </tr>\n",
       "    <tr>\n",
       "      <th>std</th>\n",
       "      <td>10.744819</td>\n",
       "    </tr>\n",
       "    <tr>\n",
       "      <th>min</th>\n",
       "      <td>168.038423</td>\n",
       "    </tr>\n",
       "    <tr>\n",
       "      <th>25%</th>\n",
       "      <td>186.009547</td>\n",
       "    </tr>\n",
       "    <tr>\n",
       "      <th>50%</th>\n",
       "      <td>195.145007</td>\n",
       "    </tr>\n",
       "    <tr>\n",
       "      <th>75%</th>\n",
       "      <td>200.624363</td>\n",
       "    </tr>\n",
       "    <tr>\n",
       "      <th>max</th>\n",
       "      <td>209.973069</td>\n",
       "    </tr>\n",
       "  </tbody>\n",
       "</table>\n",
       "</div>"
      ],
      "text/plain": [
       "       blood_pressure\n",
       "count       30.000000\n",
       "mean       193.632568\n",
       "std         10.744819\n",
       "min        168.038423\n",
       "25%        186.009547\n",
       "50%        195.145007\n",
       "75%        200.624363\n",
       "max        209.973069"
      ]
     },
     "execution_count": 17,
     "metadata": {},
     "output_type": "execute_result"
    }
   ],
   "source": [
    "boran[['blood_pressure']].describe()"
   ]
  },
  {
   "cell_type": "code",
   "execution_count": 19,
   "metadata": {
    "scrolled": true
   },
   "outputs": [
    {
     "data": {
      "text/plain": [
       "<matplotlib.axes._subplots.AxesSubplot at 0x2012f32c7f0>"
      ]
     },
     "execution_count": 19,
     "metadata": {},
     "output_type": "execute_result"
    },
    {
     "data": {
      "image/png": "[encoded data removed]",
      "text/plain": [
       "<Figure size 432x288 with 1 Axes>"
      ]
     },
     "metadata": {
      "needs_background": "light"
     },
     "output_type": "display_data"
    }
   ],
   "source": [
    "# Boxplot showing the blood pressure of Radan's data.\n",
    "\n",
    "radan['blood_pressure'].plot.box()"
   ]
  },
  {
   "cell_type": "code",
   "execution_count": 18,
   "metadata": {},
   "outputs": [
    {
     "data": {
      "text/html": [
       "<div>\n",
       "<style scoped>\n",
       "    .dataframe tbody tr th:only-of-type {\n",
       "        vertical-align: middle;\n",
       "    }\n",
       "\n",
       "    .dataframe tbody tr th {\n",
       "        vertical-align: top;\n",
       "    }\n",
       "\n",
       "    .dataframe thead th {\n",
       "        text-align: right;\n",
       "    }\n",
       "</style>\n",
       "<table border=\"1\" class=\"dataframe\">\n",
       "  <thead>\n",
       "    <tr style=\"text-align: right;\">\n",
       "      <th></th>\n",
       "      <th>blood_pressure</th>\n",
       "    </tr>\n",
       "  </thead>\n",
       "  <tbody>\n",
       "    <tr>\n",
       "      <th>count</th>\n",
       "      <td>30.000000</td>\n",
       "    </tr>\n",
       "    <tr>\n",
       "      <th>mean</th>\n",
       "      <td>103.482301</td>\n",
       "    </tr>\n",
       "    <tr>\n",
       "      <th>std</th>\n",
       "      <td>4.272000</td>\n",
       "    </tr>\n",
       "    <tr>\n",
       "      <th>min</th>\n",
       "      <td>94.041680</td>\n",
       "    </tr>\n",
       "    <tr>\n",
       "      <th>25%</th>\n",
       "      <td>100.863369</td>\n",
       "    </tr>\n",
       "    <tr>\n",
       "      <th>50%</th>\n",
       "      <td>103.956240</td>\n",
       "    </tr>\n",
       "    <tr>\n",
       "      <th>75%</th>\n",
       "      <td>106.606746</td>\n",
       "    </tr>\n",
       "    <tr>\n",
       "      <th>max</th>\n",
       "      <td>111.513411</td>\n",
       "    </tr>\n",
       "  </tbody>\n",
       "</table>\n",
       "</div>"
      ],
      "text/plain": [
       "       blood_pressure\n",
       "count       30.000000\n",
       "mean       103.482301\n",
       "std          4.272000\n",
       "min         94.041680\n",
       "25%        100.863369\n",
       "50%        103.956240\n",
       "75%        106.606746\n",
       "max        111.513411"
      ]
     },
     "execution_count": 18,
     "metadata": {},
     "output_type": "execute_result"
    }
   ],
   "source": [
    "radan[['blood_pressure']].describe()"
   ]
  },
  {
   "cell_type": "code",
   "execution_count": 34,
   "metadata": {
    "scrolled": true
   },
   "outputs": [
    {
     "data": {
      "text/plain": [
       "<matplotlib.collections.PathCollection at 0x20130794460>"
      ]
     },
     "execution_count": 34,
     "metadata": {},
     "output_type": "execute_result"
    },
    {
     "data": {
      "image/png": "[encoded data removed]",
      "text/plain": [
       "<Figure size 432x288 with 1 Axes>"
      ]
     },
     "metadata": {
      "needs_background": "light"
     },
     "output_type": "display_data"
    }
   ],
   "source": [
    "# Scatter plot showing the relationship between blood pressure and age between Boran (in blue) and Radan (in red).\n",
    "\n",
    "fig, ax = plt.subplots()\n",
    "colors = {1:'blue', 2:'red'}\n",
    "ax.scatter(planet['blood_pressure'], planet['age'],  c=planet['planet_id'].map(colors))"
   ]
  },
  {
   "cell_type": "code",
   "execution_count": 26,
   "metadata": {},
   "outputs": [
    {
     "data": {
      "text/plain": [
       "<matplotlib.collections.PathCollection at 0x20130765130>"
      ]
     },
     "execution_count": 26,
     "metadata": {},
     "output_type": "execute_result"
    },
    {
     "data": {
      "image/png": "[encoded data removed]",
      "text/plain": [
       "<Figure size 432x288 with 1 Axes>"
      ]
     },
     "metadata": {
      "needs_background": "light"
     },
     "output_type": "display_data"
    },
    {
     "data": {
      "image/png": "[encoded data removed]",
      "text/plain": [
       "<Figure size 432x288 with 1 Axes>"
      ]
     },
     "metadata": {
      "needs_background": "light"
     },
     "output_type": "display_data"
    }
   ],
   "source": [
    "# Scatter plot showing the relationship between blood pressure and exercise between Boran (in blue) and Radan (in red).\n",
    "\n",
    "fig, ax = plt.subplots()\n",
    "colors = {1:'blue', 2:'red'}\n",
    "ax.scatter(planet['blood_pressure'], planet['exercise'],  c=planet['planet_id'].map(colors))\n",
    "\n",
    "fig, ax = plt.subplots()\n",
    "colors = {1:'blue', 2:'red'}\n",
    "ax.scatter(planet['blood_pressure'], planet['weight'],  c=planet['planet_id'].map(colors))"
   ]
  },
  {
   "cell_type": "code",
   "execution_count": 33,
   "metadata": {},
   "outputs": [
    {
     "data": {
      "text/plain": [
       "<matplotlib.collections.PathCollection at 0x201309747c0>"
      ]
     },
     "execution_count": 33,
     "metadata": {},
     "output_type": "execute_result"
    },
    {
     "data": {
      "image/png": "[encoded data removed]",
      "text/plain": [
       "<Figure size 432x288 with 1 Axes>"
      ]
     },
     "metadata": {
      "needs_background": "light"
     },
     "output_type": "display_data"
    }
   ],
   "source": [
    "# Scatter plot showing the relationship between blood pressure and weight between Boran (in blue) and Radan (in red).\n",
    "\n",
    "fig, ax = plt.subplots()\n",
    "colors = {1:'blue', 2:'red'}\n",
    "ax.scatter(planet['blood_pressure'], planet['weight'],  c=planet['planet_id'].map(colors))"
   ]
  },
  {
   "cell_type": "code",
   "execution_count": 32,
   "metadata": {},
   "outputs": [
    {
     "data": {
      "text/plain": [
       "<matplotlib.collections.PathCollection at 0x2013091dbe0>"
      ]
     },
     "execution_count": 32,
     "metadata": {},
     "output_type": "execute_result"
    },
    {
     "data": {
      "image/png": "[encoded data removed]",
      "text/plain": [
       "<Figure size 432x288 with 1 Axes>"
      ]
     },
     "metadata": {
      "needs_background": "light"
     },
     "output_type": "display_data"
    }
   ],
   "source": [
    "# Scatter plot showing the relationship between blood pressure and glucose between Boran (in blue) and Radan (in red).\n",
    "\n",
    "fig, ax = plt.subplots()\n",
    "colors = {1:'blue', 2:'red'}\n",
    "ax.scatter(planet['blood_pressure'], planet['glucose'],  c=planet['planet_id'].map(colors))"
   ]
  },
  {
   "cell_type": "code",
   "execution_count": 31,
   "metadata": {},
   "outputs": [
    {
     "data": {
      "text/plain": [
       "<matplotlib.collections.PathCollection at 0x201308bf5e0>"
      ]
     },
     "execution_count": 31,
     "metadata": {},
     "output_type": "execute_result"
    },
    {
     "data": {
      "image/png": "[encoded data removed]",
      "text/plain": [
       "<Figure size 432x288 with 1 Axes>"
      ]
     },
     "metadata": {
      "needs_background": "light"
     },
     "output_type": "display_data"
    }
   ],
   "source": [
    "# Scatter plot showing the relationship between blood pressure and BMI between Boran (in blue) and Radan (in red).\n",
    "\n",
    "fig, ax = plt.subplots()\n",
    "colors = {1:'blue', 2:'red'}\n",
    "ax.scatter(planet['blood_pressure'], planet['bmi'],  c=planet['planet_id'].map(colors))"
   ]
  },
  {
   "cell_type": "markdown",
   "metadata": {},
   "source": [
    "# What to expect between weight and bmi\n",
    "\n",
    "Usually in humans, a higher weight will usually positively correlate to a higher BMI. Grabbing from other scatterplots, "
   ]
  },
  {
   "cell_type": "code",
   "execution_count": 30,
   "metadata": {},
   "outputs": [
    {
     "data": {
      "text/plain": [
       "<matplotlib.collections.PathCollection at 0x201308b3190>"
      ]
     },
     "execution_count": 30,
     "metadata": {},
     "output_type": "execute_result"
    },
    {
     "data": {
      "image/png": "[encoded data removed]",
      "text/plain": [
       "<Figure size 432x288 with 1 Axes>"
      ]
     },
     "metadata": {
      "needs_background": "light"
     },
     "output_type": "display_data"
    }
   ],
   "source": [
    "# This answers the what to expect\n",
    "\n",
    "fig, ax = plt.subplots()\n",
    "colors = {1:'blue', 2:'red'}\n",
    "ax.scatter(planet['weight'], planet['bmi'],  c=planet['planet_id'].map(colors))"
   ]
  }
 ],
 "metadata": {
  "kernelspec": {
   "display_name": "Python 3",
   "language": "python",
   "name": "python3"
  },
  "language_info": {
   "codemirror_mode": {
    "name": "ipython",
    "version": 3
   },
   "file_extension": ".py",
   "mimetype": "text/x-python",
   "name": "python",
   "nbconvert_exporter": "python",
   "pygments_lexer": "ipython3",
   "version": "3.8.3"
  }
 },
 "nbformat": 4,
 "nbformat_minor": 4
}
