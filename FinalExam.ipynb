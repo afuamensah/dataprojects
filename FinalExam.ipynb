{
 "cells": [
  {
   "cell_type": "markdown",
   "metadata": {},
   "source": [
    "# Final Python Exam for Information Structures Spring 2021\n",
    "\n",
    "* There are 20 questions, each worth 5 points and 1 bonus question worth 5 points (wont count against you if you miss it).\n",
    "* The final is due Friday March 19 by 5:00 PM CST\n",
    "* This is an \"open book\" exam, meaning you can use any resource at your disposal except other students.\n",
    "* Email immediately if you need clarification on any question.  [dokoch@lispcomb.edu]"
   ]
  },
  {
   "cell_type": "markdown",
   "metadata": {},
   "source": [
    "---\n",
    "\n",
    "Execute the following two code cells to begin your Python session.\n",
    "\n",
    "---"
   ]
  },
  {
   "cell_type": "code",
   "execution_count": 3,
   "metadata": {},
   "outputs": [],
   "source": [
    "# Standard imports.\n",
    "import saspy\n",
    "import pandas as pd\n",
    "import numpy as np\n",
    "import matplotlib.pyplot as plt\n",
    "from IPython.display import HTML\n",
    "from datetime import datetime\n",
    "from numpy import nan as NA\n",
    "import math\n",
    "import sys"
   ]
  },
  {
   "cell_type": "code",
   "execution_count": 4,
   "metadata": {},
   "outputs": [
    {
     "name": "stdout",
     "output_type": "stream",
     "text": [
      "SAS Connection established. Subprocess id is 13240\n",
      "\n"
     ]
    }
   ],
   "source": [
    "# Get a SAS session object\n",
    "sas = saspy.SASsession(cfgname=\"oda\")"
   ]
  },
  {
   "cell_type": "markdown",
   "metadata": {},
   "source": [
    "---\n",
    "## Problem 1\n",
    "---"
   ]
  },
  {
   "cell_type": "markdown",
   "metadata": {},
   "source": [
    "Question 1.1: Complete the statement below to create a SASData object to retrieve data from SASHELP.CARS data set."
   ]
  },
  {
   "cell_type": "code",
   "execution_count": 5,
   "metadata": {},
   "outputs": [
    {
     "data": {
      "text/html": [
       "<div>\n",
       "<style scoped>\n",
       "    .dataframe tbody tr th:only-of-type {\n",
       "        vertical-align: middle;\n",
       "    }\n",
       "\n",
       "    .dataframe tbody tr th {\n",
       "        vertical-align: top;\n",
       "    }\n",
       "\n",
       "    .dataframe thead th {\n",
       "        text-align: right;\n",
       "    }\n",
       "</style>\n",
       "<table border=\"1\" class=\"dataframe\">\n",
       "  <thead>\n",
       "    <tr style=\"text-align: right;\">\n",
       "      <th></th>\n",
       "      <th>Make</th>\n",
       "      <th>Model</th>\n",
       "      <th>Type</th>\n",
       "      <th>Origin</th>\n",
       "      <th>DriveTrain</th>\n",
       "      <th>MSRP</th>\n",
       "      <th>Invoice</th>\n",
       "      <th>EngineSize</th>\n",
       "      <th>Cylinders</th>\n",
       "      <th>Horsepower</th>\n",
       "      <th>MPG_City</th>\n",
       "      <th>MPG_Highway</th>\n",
       "      <th>Weight</th>\n",
       "      <th>Wheelbase</th>\n",
       "      <th>Length</th>\n",
       "    </tr>\n",
       "  </thead>\n",
       "  <tbody>\n",
       "    <tr>\n",
       "      <th>0</th>\n",
       "      <td>Acura</td>\n",
       "      <td>MDX</td>\n",
       "      <td>SUV</td>\n",
       "      <td>Asia</td>\n",
       "      <td>All</td>\n",
       "      <td>36945</td>\n",
       "      <td>33337</td>\n",
       "      <td>3.5</td>\n",
       "      <td>6</td>\n",
       "      <td>265</td>\n",
       "      <td>17</td>\n",
       "      <td>23</td>\n",
       "      <td>4451</td>\n",
       "      <td>106</td>\n",
       "      <td>189</td>\n",
       "    </tr>\n",
       "    <tr>\n",
       "      <th>1</th>\n",
       "      <td>Acura</td>\n",
       "      <td>RSX Type S 2dr</td>\n",
       "      <td>Sedan</td>\n",
       "      <td>Asia</td>\n",
       "      <td>Front</td>\n",
       "      <td>23820</td>\n",
       "      <td>21761</td>\n",
       "      <td>2.0</td>\n",
       "      <td>4</td>\n",
       "      <td>200</td>\n",
       "      <td>24</td>\n",
       "      <td>31</td>\n",
       "      <td>2778</td>\n",
       "      <td>101</td>\n",
       "      <td>172</td>\n",
       "    </tr>\n",
       "    <tr>\n",
       "      <th>2</th>\n",
       "      <td>Acura</td>\n",
       "      <td>TSX 4dr</td>\n",
       "      <td>Sedan</td>\n",
       "      <td>Asia</td>\n",
       "      <td>Front</td>\n",
       "      <td>26990</td>\n",
       "      <td>24647</td>\n",
       "      <td>2.4</td>\n",
       "      <td>4</td>\n",
       "      <td>200</td>\n",
       "      <td>22</td>\n",
       "      <td>29</td>\n",
       "      <td>3230</td>\n",
       "      <td>105</td>\n",
       "      <td>183</td>\n",
       "    </tr>\n",
       "    <tr>\n",
       "      <th>3</th>\n",
       "      <td>Acura</td>\n",
       "      <td>TL 4dr</td>\n",
       "      <td>Sedan</td>\n",
       "      <td>Asia</td>\n",
       "      <td>Front</td>\n",
       "      <td>33195</td>\n",
       "      <td>30299</td>\n",
       "      <td>3.2</td>\n",
       "      <td>6</td>\n",
       "      <td>270</td>\n",
       "      <td>20</td>\n",
       "      <td>28</td>\n",
       "      <td>3575</td>\n",
       "      <td>108</td>\n",
       "      <td>186</td>\n",
       "    </tr>\n",
       "    <tr>\n",
       "      <th>4</th>\n",
       "      <td>Acura</td>\n",
       "      <td>3.5 RL 4dr</td>\n",
       "      <td>Sedan</td>\n",
       "      <td>Asia</td>\n",
       "      <td>Front</td>\n",
       "      <td>43755</td>\n",
       "      <td>39014</td>\n",
       "      <td>3.5</td>\n",
       "      <td>6</td>\n",
       "      <td>225</td>\n",
       "      <td>18</td>\n",
       "      <td>24</td>\n",
       "      <td>3880</td>\n",
       "      <td>115</td>\n",
       "      <td>197</td>\n",
       "    </tr>\n",
       "  </tbody>\n",
       "</table>\n",
       "</div>"
      ],
      "text/plain": [
       "    Make           Model   Type Origin DriveTrain   MSRP  Invoice  EngineSize  \\\n",
       "0  Acura             MDX    SUV   Asia        All  36945    33337         3.5   \n",
       "1  Acura  RSX Type S 2dr  Sedan   Asia      Front  23820    21761         2.0   \n",
       "2  Acura         TSX 4dr  Sedan   Asia      Front  26990    24647         2.4   \n",
       "3  Acura          TL 4dr  Sedan   Asia      Front  33195    30299         3.2   \n",
       "4  Acura      3.5 RL 4dr  Sedan   Asia      Front  43755    39014         3.5   \n",
       "\n",
       "   Cylinders  Horsepower  MPG_City  MPG_Highway  Weight  Wheelbase  Length  \n",
       "0          6         265        17           23    4451        106     189  \n",
       "1          4         200        24           31    2778        101     172  \n",
       "2          4         200        22           29    3230        105     183  \n",
       "3          6         270        20           28    3575        108     186  \n",
       "4          6         225        18           24    3880        115     197  "
      ]
     },
     "execution_count": 5,
     "metadata": {},
     "output_type": "execute_result"
    }
   ],
   "source": [
    "cars_sd = sas.sasdata('cars', 'sashelp')\n",
    "cars_sd.head()"
   ]
  },
  {
   "cell_type": "markdown",
   "metadata": {},
   "source": [
    "Question 1.2: Complete the statement below to create a new SASData object from the **cars_sd** object where the records are filtered to only include cars made in USA and with an MSRP greater than $30,000."
   ]
  },
  {
   "cell_type": "code",
   "execution_count": 14,
   "metadata": {},
   "outputs": [
    {
     "data": {
      "text/html": [
       "<div>\n",
       "<style scoped>\n",
       "    .dataframe tbody tr th:only-of-type {\n",
       "        vertical-align: middle;\n",
       "    }\n",
       "\n",
       "    .dataframe tbody tr th {\n",
       "        vertical-align: top;\n",
       "    }\n",
       "\n",
       "    .dataframe thead th {\n",
       "        text-align: right;\n",
       "    }\n",
       "</style>\n",
       "<table border=\"1\" class=\"dataframe\">\n",
       "  <thead>\n",
       "    <tr style=\"text-align: right;\">\n",
       "      <th></th>\n",
       "      <th>Make</th>\n",
       "      <th>Model</th>\n",
       "      <th>Type</th>\n",
       "      <th>Origin</th>\n",
       "      <th>DriveTrain</th>\n",
       "      <th>MSRP</th>\n",
       "      <th>Invoice</th>\n",
       "      <th>EngineSize</th>\n",
       "      <th>Cylinders</th>\n",
       "      <th>Horsepower</th>\n",
       "      <th>MPG_City</th>\n",
       "      <th>MPG_Highway</th>\n",
       "      <th>Weight</th>\n",
       "      <th>Wheelbase</th>\n",
       "      <th>Length</th>\n",
       "    </tr>\n",
       "  </thead>\n",
       "  <tbody>\n",
       "    <tr>\n",
       "      <th>0</th>\n",
       "      <td>Buick</td>\n",
       "      <td>Rainier</td>\n",
       "      <td>SUV</td>\n",
       "      <td>USA</td>\n",
       "      <td>All</td>\n",
       "      <td>37895</td>\n",
       "      <td>34357</td>\n",
       "      <td>4.2</td>\n",
       "      <td>6</td>\n",
       "      <td>275</td>\n",
       "      <td>15</td>\n",
       "      <td>21</td>\n",
       "      <td>4600</td>\n",
       "      <td>113</td>\n",
       "      <td>193</td>\n",
       "    </tr>\n",
       "    <tr>\n",
       "      <th>1</th>\n",
       "      <td>Buick</td>\n",
       "      <td>LeSabre Limited 4dr</td>\n",
       "      <td>Sedan</td>\n",
       "      <td>USA</td>\n",
       "      <td>Front</td>\n",
       "      <td>32245</td>\n",
       "      <td>29566</td>\n",
       "      <td>3.8</td>\n",
       "      <td>6</td>\n",
       "      <td>205</td>\n",
       "      <td>20</td>\n",
       "      <td>29</td>\n",
       "      <td>3591</td>\n",
       "      <td>112</td>\n",
       "      <td>200</td>\n",
       "    </tr>\n",
       "    <tr>\n",
       "      <th>2</th>\n",
       "      <td>Buick</td>\n",
       "      <td>Park Avenue 4dr</td>\n",
       "      <td>Sedan</td>\n",
       "      <td>USA</td>\n",
       "      <td>Front</td>\n",
       "      <td>35545</td>\n",
       "      <td>32244</td>\n",
       "      <td>3.8</td>\n",
       "      <td>6</td>\n",
       "      <td>205</td>\n",
       "      <td>20</td>\n",
       "      <td>29</td>\n",
       "      <td>3778</td>\n",
       "      <td>114</td>\n",
       "      <td>207</td>\n",
       "    </tr>\n",
       "    <tr>\n",
       "      <th>3</th>\n",
       "      <td>Buick</td>\n",
       "      <td>Park Avenue Ultra 4dr</td>\n",
       "      <td>Sedan</td>\n",
       "      <td>USA</td>\n",
       "      <td>Front</td>\n",
       "      <td>40720</td>\n",
       "      <td>36927</td>\n",
       "      <td>3.8</td>\n",
       "      <td>6</td>\n",
       "      <td>240</td>\n",
       "      <td>18</td>\n",
       "      <td>28</td>\n",
       "      <td>3909</td>\n",
       "      <td>114</td>\n",
       "      <td>207</td>\n",
       "    </tr>\n",
       "    <tr>\n",
       "      <th>4</th>\n",
       "      <td>Cadillac</td>\n",
       "      <td>Escalade</td>\n",
       "      <td>SUV</td>\n",
       "      <td>USA</td>\n",
       "      <td>Front</td>\n",
       "      <td>52795</td>\n",
       "      <td>48377</td>\n",
       "      <td>5.3</td>\n",
       "      <td>8</td>\n",
       "      <td>295</td>\n",
       "      <td>14</td>\n",
       "      <td>18</td>\n",
       "      <td>5367</td>\n",
       "      <td>116</td>\n",
       "      <td>199</td>\n",
       "    </tr>\n",
       "  </tbody>\n",
       "</table>\n",
       "</div>"
      ],
      "text/plain": [
       "       Make                  Model   Type Origin DriveTrain   MSRP  Invoice  \\\n",
       "0     Buick                Rainier    SUV    USA        All  37895    34357   \n",
       "1     Buick    LeSabre Limited 4dr  Sedan    USA      Front  32245    29566   \n",
       "2     Buick        Park Avenue 4dr  Sedan    USA      Front  35545    32244   \n",
       "3     Buick  Park Avenue Ultra 4dr  Sedan    USA      Front  40720    36927   \n",
       "4  Cadillac               Escalade    SUV    USA      Front  52795    48377   \n",
       "\n",
       "   EngineSize  Cylinders  Horsepower  MPG_City  MPG_Highway  Weight  \\\n",
       "0         4.2          6         275        15           21    4600   \n",
       "1         3.8          6         205        20           29    3591   \n",
       "2         3.8          6         205        20           29    3778   \n",
       "3         3.8          6         240        18           28    3909   \n",
       "4         5.3          8         295        14           18    5367   \n",
       "\n",
       "   Wheelbase  Length  \n",
       "0        113     193  \n",
       "1        112     200  \n",
       "2        114     207  \n",
       "3        114     207  \n",
       "4        116     199  "
      ]
     },
     "execution_count": 14,
     "metadata": {},
     "output_type": "execute_result"
    }
   ],
   "source": [
    "cars_us_luxury_sd = cars_sd.where('Origin = \"USA\"  and MSRP > 30000')\n",
    "cars_us_luxury_sd.head()"
   ]
  },
  {
   "cell_type": "markdown",
   "metadata": {},
   "source": [
    "Question 1.3: Complete the statement below to create a new DataFrame object using a method from the **cars_us_luxury_sd** SASData object."
   ]
  },
  {
   "cell_type": "code",
   "execution_count": 15,
   "metadata": {},
   "outputs": [
    {
     "data": {
      "text/html": [
       "<div>\n",
       "<style scoped>\n",
       "    .dataframe tbody tr th:only-of-type {\n",
       "        vertical-align: middle;\n",
       "    }\n",
       "\n",
       "    .dataframe tbody tr th {\n",
       "        vertical-align: top;\n",
       "    }\n",
       "\n",
       "    .dataframe thead th {\n",
       "        text-align: right;\n",
       "    }\n",
       "</style>\n",
       "<table border=\"1\" class=\"dataframe\">\n",
       "  <thead>\n",
       "    <tr style=\"text-align: right;\">\n",
       "      <th></th>\n",
       "      <th>Make</th>\n",
       "      <th>Model</th>\n",
       "      <th>Type</th>\n",
       "      <th>Origin</th>\n",
       "      <th>DriveTrain</th>\n",
       "      <th>MSRP</th>\n",
       "      <th>Invoice</th>\n",
       "      <th>EngineSize</th>\n",
       "      <th>Cylinders</th>\n",
       "      <th>Horsepower</th>\n",
       "      <th>MPG_City</th>\n",
       "      <th>MPG_Highway</th>\n",
       "      <th>Weight</th>\n",
       "      <th>Wheelbase</th>\n",
       "      <th>Length</th>\n",
       "    </tr>\n",
       "  </thead>\n",
       "  <tbody>\n",
       "    <tr>\n",
       "      <th>0</th>\n",
       "      <td>Buick</td>\n",
       "      <td>Rainier</td>\n",
       "      <td>SUV</td>\n",
       "      <td>USA</td>\n",
       "      <td>All</td>\n",
       "      <td>37895</td>\n",
       "      <td>34357</td>\n",
       "      <td>4.2</td>\n",
       "      <td>6</td>\n",
       "      <td>275</td>\n",
       "      <td>15</td>\n",
       "      <td>21</td>\n",
       "      <td>4600</td>\n",
       "      <td>113</td>\n",
       "      <td>193</td>\n",
       "    </tr>\n",
       "    <tr>\n",
       "      <th>1</th>\n",
       "      <td>Buick</td>\n",
       "      <td>LeSabre Limited 4dr</td>\n",
       "      <td>Sedan</td>\n",
       "      <td>USA</td>\n",
       "      <td>Front</td>\n",
       "      <td>32245</td>\n",
       "      <td>29566</td>\n",
       "      <td>3.8</td>\n",
       "      <td>6</td>\n",
       "      <td>205</td>\n",
       "      <td>20</td>\n",
       "      <td>29</td>\n",
       "      <td>3591</td>\n",
       "      <td>112</td>\n",
       "      <td>200</td>\n",
       "    </tr>\n",
       "    <tr>\n",
       "      <th>2</th>\n",
       "      <td>Buick</td>\n",
       "      <td>Park Avenue 4dr</td>\n",
       "      <td>Sedan</td>\n",
       "      <td>USA</td>\n",
       "      <td>Front</td>\n",
       "      <td>35545</td>\n",
       "      <td>32244</td>\n",
       "      <td>3.8</td>\n",
       "      <td>6</td>\n",
       "      <td>205</td>\n",
       "      <td>20</td>\n",
       "      <td>29</td>\n",
       "      <td>3778</td>\n",
       "      <td>114</td>\n",
       "      <td>207</td>\n",
       "    </tr>\n",
       "    <tr>\n",
       "      <th>3</th>\n",
       "      <td>Buick</td>\n",
       "      <td>Park Avenue Ultra 4dr</td>\n",
       "      <td>Sedan</td>\n",
       "      <td>USA</td>\n",
       "      <td>Front</td>\n",
       "      <td>40720</td>\n",
       "      <td>36927</td>\n",
       "      <td>3.8</td>\n",
       "      <td>6</td>\n",
       "      <td>240</td>\n",
       "      <td>18</td>\n",
       "      <td>28</td>\n",
       "      <td>3909</td>\n",
       "      <td>114</td>\n",
       "      <td>207</td>\n",
       "    </tr>\n",
       "    <tr>\n",
       "      <th>4</th>\n",
       "      <td>Cadillac</td>\n",
       "      <td>Escalade</td>\n",
       "      <td>SUV</td>\n",
       "      <td>USA</td>\n",
       "      <td>Front</td>\n",
       "      <td>52795</td>\n",
       "      <td>48377</td>\n",
       "      <td>5.3</td>\n",
       "      <td>8</td>\n",
       "      <td>295</td>\n",
       "      <td>14</td>\n",
       "      <td>18</td>\n",
       "      <td>5367</td>\n",
       "      <td>116</td>\n",
       "      <td>199</td>\n",
       "    </tr>\n",
       "  </tbody>\n",
       "</table>\n",
       "</div>"
      ],
      "text/plain": [
       "       Make                  Model   Type Origin DriveTrain   MSRP  Invoice  \\\n",
       "0     Buick                Rainier    SUV    USA        All  37895    34357   \n",
       "1     Buick    LeSabre Limited 4dr  Sedan    USA      Front  32245    29566   \n",
       "2     Buick        Park Avenue 4dr  Sedan    USA      Front  35545    32244   \n",
       "3     Buick  Park Avenue Ultra 4dr  Sedan    USA      Front  40720    36927   \n",
       "4  Cadillac               Escalade    SUV    USA      Front  52795    48377   \n",
       "\n",
       "   EngineSize  Cylinders  Horsepower  MPG_City  MPG_Highway  Weight  \\\n",
       "0         4.2          6         275        15           21    4600   \n",
       "1         3.8          6         205        20           29    3591   \n",
       "2         3.8          6         205        20           29    3778   \n",
       "3         3.8          6         240        18           28    3909   \n",
       "4         5.3          8         295        14           18    5367   \n",
       "\n",
       "   Wheelbase  Length  \n",
       "0        113     193  \n",
       "1        112     200  \n",
       "2        114     207  \n",
       "3        114     207  \n",
       "4        116     199  "
      ]
     },
     "execution_count": 15,
     "metadata": {},
     "output_type": "execute_result"
    }
   ],
   "source": [
    "cars_us_luxury_df = cars_us_luxury_sd.to_df()\n",
    "cars_us_luxury_df.head()"
   ]
  },
  {
   "cell_type": "markdown",
   "metadata": {},
   "source": [
    "Question 1.4: Complete the statement below to create a new column in **cars_us_luxury_df** called **Difference** that is the difference between **MSRP** and **Invoice**."
   ]
  },
  {
   "cell_type": "code",
   "execution_count": 16,
   "metadata": {},
   "outputs": [
    {
     "data": {
      "text/html": [
       "<div>\n",
       "<style scoped>\n",
       "    .dataframe tbody tr th:only-of-type {\n",
       "        vertical-align: middle;\n",
       "    }\n",
       "\n",
       "    .dataframe tbody tr th {\n",
       "        vertical-align: top;\n",
       "    }\n",
       "\n",
       "    .dataframe thead th {\n",
       "        text-align: right;\n",
       "    }\n",
       "</style>\n",
       "<table border=\"1\" class=\"dataframe\">\n",
       "  <thead>\n",
       "    <tr style=\"text-align: right;\">\n",
       "      <th></th>\n",
       "      <th>Make</th>\n",
       "      <th>Model</th>\n",
       "      <th>Type</th>\n",
       "      <th>Origin</th>\n",
       "      <th>DriveTrain</th>\n",
       "      <th>MSRP</th>\n",
       "      <th>Invoice</th>\n",
       "      <th>EngineSize</th>\n",
       "      <th>Cylinders</th>\n",
       "      <th>Horsepower</th>\n",
       "      <th>MPG_City</th>\n",
       "      <th>MPG_Highway</th>\n",
       "      <th>Weight</th>\n",
       "      <th>Wheelbase</th>\n",
       "      <th>Length</th>\n",
       "      <th>Difference</th>\n",
       "    </tr>\n",
       "  </thead>\n",
       "  <tbody>\n",
       "    <tr>\n",
       "      <th>0</th>\n",
       "      <td>Buick</td>\n",
       "      <td>Rainier</td>\n",
       "      <td>SUV</td>\n",
       "      <td>USA</td>\n",
       "      <td>All</td>\n",
       "      <td>37895</td>\n",
       "      <td>34357</td>\n",
       "      <td>4.2</td>\n",
       "      <td>6</td>\n",
       "      <td>275</td>\n",
       "      <td>15</td>\n",
       "      <td>21</td>\n",
       "      <td>4600</td>\n",
       "      <td>113</td>\n",
       "      <td>193</td>\n",
       "      <td>3538</td>\n",
       "    </tr>\n",
       "    <tr>\n",
       "      <th>1</th>\n",
       "      <td>Buick</td>\n",
       "      <td>LeSabre Limited 4dr</td>\n",
       "      <td>Sedan</td>\n",
       "      <td>USA</td>\n",
       "      <td>Front</td>\n",
       "      <td>32245</td>\n",
       "      <td>29566</td>\n",
       "      <td>3.8</td>\n",
       "      <td>6</td>\n",
       "      <td>205</td>\n",
       "      <td>20</td>\n",
       "      <td>29</td>\n",
       "      <td>3591</td>\n",
       "      <td>112</td>\n",
       "      <td>200</td>\n",
       "      <td>2679</td>\n",
       "    </tr>\n",
       "    <tr>\n",
       "      <th>2</th>\n",
       "      <td>Buick</td>\n",
       "      <td>Park Avenue 4dr</td>\n",
       "      <td>Sedan</td>\n",
       "      <td>USA</td>\n",
       "      <td>Front</td>\n",
       "      <td>35545</td>\n",
       "      <td>32244</td>\n",
       "      <td>3.8</td>\n",
       "      <td>6</td>\n",
       "      <td>205</td>\n",
       "      <td>20</td>\n",
       "      <td>29</td>\n",
       "      <td>3778</td>\n",
       "      <td>114</td>\n",
       "      <td>207</td>\n",
       "      <td>3301</td>\n",
       "    </tr>\n",
       "    <tr>\n",
       "      <th>3</th>\n",
       "      <td>Buick</td>\n",
       "      <td>Park Avenue Ultra 4dr</td>\n",
       "      <td>Sedan</td>\n",
       "      <td>USA</td>\n",
       "      <td>Front</td>\n",
       "      <td>40720</td>\n",
       "      <td>36927</td>\n",
       "      <td>3.8</td>\n",
       "      <td>6</td>\n",
       "      <td>240</td>\n",
       "      <td>18</td>\n",
       "      <td>28</td>\n",
       "      <td>3909</td>\n",
       "      <td>114</td>\n",
       "      <td>207</td>\n",
       "      <td>3793</td>\n",
       "    </tr>\n",
       "    <tr>\n",
       "      <th>4</th>\n",
       "      <td>Cadillac</td>\n",
       "      <td>Escalade</td>\n",
       "      <td>SUV</td>\n",
       "      <td>USA</td>\n",
       "      <td>Front</td>\n",
       "      <td>52795</td>\n",
       "      <td>48377</td>\n",
       "      <td>5.3</td>\n",
       "      <td>8</td>\n",
       "      <td>295</td>\n",
       "      <td>14</td>\n",
       "      <td>18</td>\n",
       "      <td>5367</td>\n",
       "      <td>116</td>\n",
       "      <td>199</td>\n",
       "      <td>4418</td>\n",
       "    </tr>\n",
       "  </tbody>\n",
       "</table>\n",
       "</div>"
      ],
      "text/plain": [
       "       Make                  Model   Type Origin DriveTrain   MSRP  Invoice  \\\n",
       "0     Buick                Rainier    SUV    USA        All  37895    34357   \n",
       "1     Buick    LeSabre Limited 4dr  Sedan    USA      Front  32245    29566   \n",
       "2     Buick        Park Avenue 4dr  Sedan    USA      Front  35545    32244   \n",
       "3     Buick  Park Avenue Ultra 4dr  Sedan    USA      Front  40720    36927   \n",
       "4  Cadillac               Escalade    SUV    USA      Front  52795    48377   \n",
       "\n",
       "   EngineSize  Cylinders  Horsepower  MPG_City  MPG_Highway  Weight  \\\n",
       "0         4.2          6         275        15           21    4600   \n",
       "1         3.8          6         205        20           29    3591   \n",
       "2         3.8          6         205        20           29    3778   \n",
       "3         3.8          6         240        18           28    3909   \n",
       "4         5.3          8         295        14           18    5367   \n",
       "\n",
       "   Wheelbase  Length  Difference  \n",
       "0        113     193        3538  \n",
       "1        112     200        2679  \n",
       "2        114     207        3301  \n",
       "3        114     207        3793  \n",
       "4        116     199        4418  "
      ]
     },
     "execution_count": 16,
     "metadata": {},
     "output_type": "execute_result"
    }
   ],
   "source": [
    "cars_us_luxury_df['Difference'] = cars_us_luxury_df['MSRP'] - cars_us_luxury_df['Invoice']\n",
    "cars_us_luxury_df.head()"
   ]
  },
  {
   "cell_type": "markdown",
   "metadata": {},
   "source": [
    "Problem 1.5: Complete the statement below to only keep the \"Model\", \"Type\", \"Origin\", \"MSRP\" and \"Difference\" columns."
   ]
  },
  {
   "cell_type": "code",
   "execution_count": 17,
   "metadata": {},
   "outputs": [
    {
     "data": {
      "text/html": [
       "<div>\n",
       "<style scoped>\n",
       "    .dataframe tbody tr th:only-of-type {\n",
       "        vertical-align: middle;\n",
       "    }\n",
       "\n",
       "    .dataframe tbody tr th {\n",
       "        vertical-align: top;\n",
       "    }\n",
       "\n",
       "    .dataframe thead th {\n",
       "        text-align: right;\n",
       "    }\n",
       "</style>\n",
       "<table border=\"1\" class=\"dataframe\">\n",
       "  <thead>\n",
       "    <tr style=\"text-align: right;\">\n",
       "      <th></th>\n",
       "      <th>Model</th>\n",
       "      <th>Type</th>\n",
       "      <th>Origin</th>\n",
       "      <th>MSRP</th>\n",
       "      <th>Difference</th>\n",
       "    </tr>\n",
       "  </thead>\n",
       "  <tbody>\n",
       "    <tr>\n",
       "      <th>0</th>\n",
       "      <td>Rainier</td>\n",
       "      <td>SUV</td>\n",
       "      <td>USA</td>\n",
       "      <td>37895</td>\n",
       "      <td>3538</td>\n",
       "    </tr>\n",
       "    <tr>\n",
       "      <th>1</th>\n",
       "      <td>LeSabre Limited 4dr</td>\n",
       "      <td>Sedan</td>\n",
       "      <td>USA</td>\n",
       "      <td>32245</td>\n",
       "      <td>2679</td>\n",
       "    </tr>\n",
       "    <tr>\n",
       "      <th>2</th>\n",
       "      <td>Park Avenue 4dr</td>\n",
       "      <td>Sedan</td>\n",
       "      <td>USA</td>\n",
       "      <td>35545</td>\n",
       "      <td>3301</td>\n",
       "    </tr>\n",
       "    <tr>\n",
       "      <th>3</th>\n",
       "      <td>Park Avenue Ultra 4dr</td>\n",
       "      <td>Sedan</td>\n",
       "      <td>USA</td>\n",
       "      <td>40720</td>\n",
       "      <td>3793</td>\n",
       "    </tr>\n",
       "    <tr>\n",
       "      <th>4</th>\n",
       "      <td>Escalade</td>\n",
       "      <td>SUV</td>\n",
       "      <td>USA</td>\n",
       "      <td>52795</td>\n",
       "      <td>4418</td>\n",
       "    </tr>\n",
       "  </tbody>\n",
       "</table>\n",
       "</div>"
      ],
      "text/plain": [
       "                   Model   Type Origin   MSRP  Difference\n",
       "0                Rainier    SUV    USA  37895        3538\n",
       "1    LeSabre Limited 4dr  Sedan    USA  32245        2679\n",
       "2        Park Avenue 4dr  Sedan    USA  35545        3301\n",
       "3  Park Avenue Ultra 4dr  Sedan    USA  40720        3793\n",
       "4               Escalade    SUV    USA  52795        4418"
      ]
     },
     "execution_count": 17,
     "metadata": {},
     "output_type": "execute_result"
    }
   ],
   "source": [
    "cars_us_luxury_df = cars_us_luxury_df.loc[:, ['Model', 'Type', 'Origin', 'MSRP', 'Difference']]\n",
    "cars_us_luxury_df.head()"
   ]
  },
  {
   "cell_type": "markdown",
   "metadata": {},
   "source": [
    "---\n",
    "## Problem 2\n",
    "---"
   ]
  },
  {
   "cell_type": "markdown",
   "metadata": {},
   "source": [
    "Run the following code cell to create a *SASData* object called **heart_sd** and a *DataFrame* object called **heart_df** "
   ]
  },
  {
   "cell_type": "code",
   "execution_count": 18,
   "metadata": {},
   "outputs": [],
   "source": [
    "heart_sd = sas.sasdata('heart', 'sashelp')\n",
    "heart_df = heart_sd.to_df()"
   ]
  },
  {
   "cell_type": "markdown",
   "metadata": {},
   "source": [
    "JupyterLab Notebooks support \"magic\" commands, which begin with a % and fulfill various utility purposes.\\\n",
    "The **%time** magic command provides a way to see how long a Python statement takes to execute.\\\n",
    "One of the outputs of **%time** is \"Wall time:\" which measures how long the command took according to the clock on your wall, or total elapsed time.  Time is usually reported in seconds (s) or micro seconds (µs).  \n",
    "\n",
    "Execute the following two .head(1) statements and answer the following question."
   ]
  },
  {
   "cell_type": "code",
   "execution_count": 19,
   "metadata": {},
   "outputs": [
    {
     "name": "stdout",
     "output_type": "stream",
     "text": [
      "Wall time: 4.94 s\n"
     ]
    },
    {
     "data": {
      "text/html": [
       "<div>\n",
       "<style scoped>\n",
       "    .dataframe tbody tr th:only-of-type {\n",
       "        vertical-align: middle;\n",
       "    }\n",
       "\n",
       "    .dataframe tbody tr th {\n",
       "        vertical-align: top;\n",
       "    }\n",
       "\n",
       "    .dataframe thead th {\n",
       "        text-align: right;\n",
       "    }\n",
       "</style>\n",
       "<table border=\"1\" class=\"dataframe\">\n",
       "  <thead>\n",
       "    <tr style=\"text-align: right;\">\n",
       "      <th></th>\n",
       "      <th>Status</th>\n",
       "      <th>DeathCause</th>\n",
       "      <th>AgeCHDdiag</th>\n",
       "      <th>Sex</th>\n",
       "      <th>AgeAtStart</th>\n",
       "      <th>Height</th>\n",
       "      <th>Weight</th>\n",
       "      <th>Diastolic</th>\n",
       "      <th>Systolic</th>\n",
       "      <th>MRW</th>\n",
       "      <th>Smoking</th>\n",
       "      <th>AgeAtDeath</th>\n",
       "      <th>Cholesterol</th>\n",
       "      <th>Chol_Status</th>\n",
       "      <th>BP_Status</th>\n",
       "      <th>Weight_Status</th>\n",
       "      <th>Smoking_Status</th>\n",
       "    </tr>\n",
       "  </thead>\n",
       "  <tbody>\n",
       "    <tr>\n",
       "      <th>0</th>\n",
       "      <td>Dead</td>\n",
       "      <td>Other</td>\n",
       "      <td>NaN</td>\n",
       "      <td>Female</td>\n",
       "      <td>29</td>\n",
       "      <td>62.5</td>\n",
       "      <td>140</td>\n",
       "      <td>78</td>\n",
       "      <td>124</td>\n",
       "      <td>121</td>\n",
       "      <td>0</td>\n",
       "      <td>55</td>\n",
       "      <td>NaN</td>\n",
       "      <td>NaN</td>\n",
       "      <td>Normal</td>\n",
       "      <td>Overweight</td>\n",
       "      <td>Non-smoker</td>\n",
       "    </tr>\n",
       "  </tbody>\n",
       "</table>\n",
       "</div>"
      ],
      "text/plain": [
       "  Status DeathCause  AgeCHDdiag     Sex  AgeAtStart  Height  Weight  \\\n",
       "0   Dead      Other         NaN  Female          29    62.5     140   \n",
       "\n",
       "   Diastolic  Systolic  MRW  Smoking  AgeAtDeath  Cholesterol  Chol_Status  \\\n",
       "0         78       124  121        0          55          NaN          NaN   \n",
       "\n",
       "  BP_Status Weight_Status Smoking_Status  \n",
       "0    Normal    Overweight     Non-smoker  "
      ]
     },
     "execution_count": 19,
     "metadata": {},
     "output_type": "execute_result"
    }
   ],
   "source": [
    "%time heart_sd.head(1)"
   ]
  },
  {
   "cell_type": "code",
   "execution_count": 20,
   "metadata": {},
   "outputs": [
    {
     "name": "stdout",
     "output_type": "stream",
     "text": [
      "Wall time: 998 µs\n"
     ]
    },
    {
     "data": {
      "text/html": [
       "<div>\n",
       "<style scoped>\n",
       "    .dataframe tbody tr th:only-of-type {\n",
       "        vertical-align: middle;\n",
       "    }\n",
       "\n",
       "    .dataframe tbody tr th {\n",
       "        vertical-align: top;\n",
       "    }\n",
       "\n",
       "    .dataframe thead th {\n",
       "        text-align: right;\n",
       "    }\n",
       "</style>\n",
       "<table border=\"1\" class=\"dataframe\">\n",
       "  <thead>\n",
       "    <tr style=\"text-align: right;\">\n",
       "      <th></th>\n",
       "      <th>Status</th>\n",
       "      <th>DeathCause</th>\n",
       "      <th>AgeCHDdiag</th>\n",
       "      <th>Sex</th>\n",
       "      <th>AgeAtStart</th>\n",
       "      <th>Height</th>\n",
       "      <th>Weight</th>\n",
       "      <th>Diastolic</th>\n",
       "      <th>Systolic</th>\n",
       "      <th>MRW</th>\n",
       "      <th>Smoking</th>\n",
       "      <th>AgeAtDeath</th>\n",
       "      <th>Cholesterol</th>\n",
       "      <th>Chol_Status</th>\n",
       "      <th>BP_Status</th>\n",
       "      <th>Weight_Status</th>\n",
       "      <th>Smoking_Status</th>\n",
       "    </tr>\n",
       "  </thead>\n",
       "  <tbody>\n",
       "    <tr>\n",
       "      <th>0</th>\n",
       "      <td>Dead</td>\n",
       "      <td>Other</td>\n",
       "      <td>NaN</td>\n",
       "      <td>Female</td>\n",
       "      <td>29</td>\n",
       "      <td>62.5</td>\n",
       "      <td>140.0</td>\n",
       "      <td>78</td>\n",
       "      <td>124</td>\n",
       "      <td>121.0</td>\n",
       "      <td>0.0</td>\n",
       "      <td>55.0</td>\n",
       "      <td>NaN</td>\n",
       "      <td>NaN</td>\n",
       "      <td>Normal</td>\n",
       "      <td>Overweight</td>\n",
       "      <td>Non-smoker</td>\n",
       "    </tr>\n",
       "  </tbody>\n",
       "</table>\n",
       "</div>"
      ],
      "text/plain": [
       "  Status DeathCause  AgeCHDdiag     Sex  AgeAtStart  Height  Weight  \\\n",
       "0   Dead      Other         NaN  Female          29    62.5   140.0   \n",
       "\n",
       "   Diastolic  Systolic    MRW  Smoking  AgeAtDeath  Cholesterol Chol_Status  \\\n",
       "0         78       124  121.0      0.0        55.0          NaN         NaN   \n",
       "\n",
       "  BP_Status Weight_Status Smoking_Status  \n",
       "0    Normal    Overweight     Non-smoker  "
      ]
     },
     "execution_count": 20,
     "metadata": {},
     "output_type": "execute_result"
    }
   ],
   "source": [
    "%time heart_df.head(1)"
   ]
  },
  {
   "cell_type": "markdown",
   "metadata": {},
   "source": [
    "Question 2.1: Which object takes longer to execute?\n",
    "\n",
    "Answer 2.1: **The SASData object takes longer.**\n",
    "\n",
    "Question 2.2: Explain why there is a significant difference in the execute times of these two statements.\n",
    "\n",
    "Answer 2.2: **The SASData object is getting data from an outside remote SAS server where the data stays, while the DataFrame object is pulling data from the Python client machine, so execution is local. Since it is local, it takes a lot less time.**\n"
   ]
  },
  {
   "cell_type": "markdown",
   "metadata": {},
   "source": [
    "---\n",
    "The Python **sys** library has a method called **sys.getsizeof()** which returns the number of bytes that the object takes up in memory.\n",
    "\n",
    "Execute the following two code cells and answer the the following question."
   ]
  },
  {
   "cell_type": "code",
   "execution_count": 21,
   "metadata": {},
   "outputs": [
    {
     "data": {
      "text/plain": [
       "2663039"
      ]
     },
     "execution_count": 21,
     "metadata": {},
     "output_type": "execute_result"
    }
   ],
   "source": [
    "sys.getsizeof(heart_df)"
   ]
  },
  {
   "cell_type": "code",
   "execution_count": 22,
   "metadata": {},
   "outputs": [
    {
     "data": {
      "text/plain": [
       "48"
      ]
     },
     "execution_count": 22,
     "metadata": {},
     "output_type": "execute_result"
    }
   ],
   "source": [
    "sys.getsizeof(heart_sd)"
   ]
  },
  {
   "cell_type": "markdown",
   "metadata": {},
   "source": [
    "Question 2.3: Which object uses more of your computers memory?\n",
    "\n",
    "Answer 2.3: **The DataFrame object uses more of my computer's memory.**\n",
    "\n",
    "Question 2.4: Why is there such a significant difference in the memory requirements of these two objects?\n",
    "\n",
    "Answer 2.4: **Because all the data is being pulled into the Python session for the DataFrame object, the data pull takes up more memory than with the SASData object, where all the data stays on a remote server.**\n",
    "\n"
   ]
  },
  {
   "cell_type": "markdown",
   "metadata": {},
   "source": [
    "---\n",
    "## Problem 3\n",
    "---"
   ]
  },
  {
   "cell_type": "markdown",
   "metadata": {},
   "source": [
    "Question 3.1: Create a dictionary that contains the following Key/Value pairs.\n",
    "\n",
    "| Key | Value | \n",
    "| --- | --- | \n",
    "| C | Cantaloupe | \n",
    "| A   | Apple | \n",
    "| D | Dog | \n",
    "| B   | Banana | "
   ]
  },
  {
   "cell_type": "code",
   "execution_count": 26,
   "metadata": {},
   "outputs": [
    {
     "data": {
      "text/plain": [
       "{'A': 'Apple', 'B': 'Banana', 'C': 'Cantaloupe', 'D': 'Dog'}"
      ]
     },
     "execution_count": 26,
     "metadata": {},
     "output_type": "execute_result"
    }
   ],
   "source": [
    "fruit_dict = {'A':'Apple', 'B':'Banana', 'C':'Cantaloupe', 'D':'Dog'}\n",
    "fruit_dict"
   ]
  },
  {
   "cell_type": "markdown",
   "metadata": {},
   "source": [
    "Question 3.2: Which item in the dictionary is not actually a fruit?\n",
    "\n",
    "Answer 3.2: **Item with key D is not a fruit, it has the value \"Dog\", which is an animal.**"
   ]
  },
  {
   "cell_type": "markdown",
   "metadata": {},
   "source": [
    "Question 3.3: Complete the statement below to print out the following message:\n",
    "\n",
    "```\n",
    "The dictionary item <key> is <value> and not really a fruit\n",
    "```\n",
    "\n",
    "Use variable references to replace \\<key\\> and \\<value\\> in the format string. "
   ]
  },
  {
   "cell_type": "code",
   "execution_count": 27,
   "metadata": {},
   "outputs": [
    {
     "name": "stdout",
     "output_type": "stream",
     "text": [
      "The dictionary item D is Dog and not really a fruit\n"
     ]
    }
   ],
   "source": [
    "# Put the appropriate key value between the quotes.\n",
    "key = 'D'\n",
    "\n",
    "# Put a properly formatted format string between the quotes\n",
    "print(f'The dictionary item {key} is {fruit_dict[key]} and not really a fruit')"
   ]
  },
  {
   "cell_type": "markdown",
   "metadata": {},
   "source": [
    "Question 3.4: Complete the statement below to add the new Key/Value pair 'E'/'Eggplant'."
   ]
  },
  {
   "cell_type": "code",
   "execution_count": 28,
   "metadata": {},
   "outputs": [
    {
     "data": {
      "text/plain": [
       "{'A': 'Apple', 'B': 'Banana', 'C': 'Cantaloupe', 'D': 'Dog', 'E': 'Eggplant'}"
      ]
     },
     "execution_count": 28,
     "metadata": {},
     "output_type": "execute_result"
    }
   ],
   "source": [
    "fruit_dict['E'] = 'Eggplant' \n",
    "fruit_dict"
   ]
  },
  {
   "cell_type": "markdown",
   "metadata": {},
   "source": [
    "---\n",
    "## Problem 4\n",
    "---"
   ]
  },
  {
   "cell_type": "markdown",
   "metadata": {},
   "source": [
    "Execute the next code cell to complete the questions in Problem 4."
   ]
  },
  {
   "cell_type": "code",
   "execution_count": 30,
   "metadata": {},
   "outputs": [],
   "source": [
    "data = {'Name':    ['Alfred', 'Alice', 'Barbara', 'Carol', 'Henry'],\n",
    "        'Sex':     ['M', 'F', 'F', 'F', 'M'],\n",
    "        'Age':     [14, 13, 13, 14, 13],\n",
    "        'Height':  [69, 65.5, 65.3, 62.8, 63.5],\n",
    "        'Weight':  [112.5, 84, 98, 102.5, 102.5],\n",
    "       }"
   ]
  },
  {
   "cell_type": "code",
   "execution_count": 34,
   "metadata": {},
   "outputs": [
    {
     "data": {
      "text/plain": [
       "dict"
      ]
     },
     "execution_count": 34,
     "metadata": {},
     "output_type": "execute_result"
    }
   ],
   "source": [
    "type(data)"
   ]
  },
  {
   "cell_type": "markdown",
   "metadata": {},
   "source": [
    "Question 4.1: What type of object is **data**?\n",
    "\n",
    "Answer 4.1: **Dictionary**"
   ]
  },
  {
   "cell_type": "code",
   "execution_count": 35,
   "metadata": {},
   "outputs": [
    {
     "data": {
      "text/plain": [
       "list"
      ]
     },
     "execution_count": 35,
     "metadata": {},
     "output_type": "execute_result"
    }
   ],
   "source": [
    "type(data['Name'])"
   ]
  },
  {
   "cell_type": "markdown",
   "metadata": {},
   "source": [
    "Question 4.2: What are the object types of the Keys and Values in **data**?\n",
    "\n",
    "Answer 4.2: **The keys and values are in a list.**"
   ]
  },
  {
   "cell_type": "markdown",
   "metadata": {},
   "source": [
    "Question 4.3: Complete the code below to create a new DataFrame using the **data** object."
   ]
  },
  {
   "cell_type": "code",
   "execution_count": 36,
   "metadata": {},
   "outputs": [
    {
     "data": {
      "text/html": [
       "<div>\n",
       "<style scoped>\n",
       "    .dataframe tbody tr th:only-of-type {\n",
       "        vertical-align: middle;\n",
       "    }\n",
       "\n",
       "    .dataframe tbody tr th {\n",
       "        vertical-align: top;\n",
       "    }\n",
       "\n",
       "    .dataframe thead th {\n",
       "        text-align: right;\n",
       "    }\n",
       "</style>\n",
       "<table border=\"1\" class=\"dataframe\">\n",
       "  <thead>\n",
       "    <tr style=\"text-align: right;\">\n",
       "      <th></th>\n",
       "      <th>Name</th>\n",
       "      <th>Sex</th>\n",
       "      <th>Age</th>\n",
       "      <th>Height</th>\n",
       "      <th>Weight</th>\n",
       "    </tr>\n",
       "  </thead>\n",
       "  <tbody>\n",
       "    <tr>\n",
       "      <th>0</th>\n",
       "      <td>Alfred</td>\n",
       "      <td>M</td>\n",
       "      <td>14</td>\n",
       "      <td>69.0</td>\n",
       "      <td>112.5</td>\n",
       "    </tr>\n",
       "    <tr>\n",
       "      <th>1</th>\n",
       "      <td>Alice</td>\n",
       "      <td>F</td>\n",
       "      <td>13</td>\n",
       "      <td>65.5</td>\n",
       "      <td>84.0</td>\n",
       "    </tr>\n",
       "    <tr>\n",
       "      <th>2</th>\n",
       "      <td>Barbara</td>\n",
       "      <td>F</td>\n",
       "      <td>13</td>\n",
       "      <td>65.3</td>\n",
       "      <td>98.0</td>\n",
       "    </tr>\n",
       "    <tr>\n",
       "      <th>3</th>\n",
       "      <td>Carol</td>\n",
       "      <td>F</td>\n",
       "      <td>14</td>\n",
       "      <td>62.8</td>\n",
       "      <td>102.5</td>\n",
       "    </tr>\n",
       "    <tr>\n",
       "      <th>4</th>\n",
       "      <td>Henry</td>\n",
       "      <td>M</td>\n",
       "      <td>13</td>\n",
       "      <td>63.5</td>\n",
       "      <td>102.5</td>\n",
       "    </tr>\n",
       "  </tbody>\n",
       "</table>\n",
       "</div>"
      ],
      "text/plain": [
       "      Name Sex  Age  Height  Weight\n",
       "0   Alfred   M   14    69.0   112.5\n",
       "1    Alice   F   13    65.5    84.0\n",
       "2  Barbara   F   13    65.3    98.0\n",
       "3    Carol   F   14    62.8   102.5\n",
       "4    Henry   M   13    63.5   102.5"
      ]
     },
     "execution_count": 36,
     "metadata": {},
     "output_type": "execute_result"
    }
   ],
   "source": [
    "students_df = pd.DataFrame(data)\n",
    "students_df"
   ]
  },
  {
   "cell_type": "markdown",
   "metadata": {},
   "source": [
    "Question 4.4: Complete the statement below with the method would you use to print out summary statistics for this data?"
   ]
  },
  {
   "cell_type": "code",
   "execution_count": 37,
   "metadata": {},
   "outputs": [
    {
     "data": {
      "text/html": [
       "<div>\n",
       "<style scoped>\n",
       "    .dataframe tbody tr th:only-of-type {\n",
       "        vertical-align: middle;\n",
       "    }\n",
       "\n",
       "    .dataframe tbody tr th {\n",
       "        vertical-align: top;\n",
       "    }\n",
       "\n",
       "    .dataframe thead th {\n",
       "        text-align: right;\n",
       "    }\n",
       "</style>\n",
       "<table border=\"1\" class=\"dataframe\">\n",
       "  <thead>\n",
       "    <tr style=\"text-align: right;\">\n",
       "      <th></th>\n",
       "      <th>Age</th>\n",
       "      <th>Height</th>\n",
       "      <th>Weight</th>\n",
       "    </tr>\n",
       "  </thead>\n",
       "  <tbody>\n",
       "    <tr>\n",
       "      <th>count</th>\n",
       "      <td>5.000000</td>\n",
       "      <td>5.000000</td>\n",
       "      <td>5.000000</td>\n",
       "    </tr>\n",
       "    <tr>\n",
       "      <th>mean</th>\n",
       "      <td>13.400000</td>\n",
       "      <td>65.220000</td>\n",
       "      <td>99.900000</td>\n",
       "    </tr>\n",
       "    <tr>\n",
       "      <th>std</th>\n",
       "      <td>0.547723</td>\n",
       "      <td>2.407696</td>\n",
       "      <td>10.352536</td>\n",
       "    </tr>\n",
       "    <tr>\n",
       "      <th>min</th>\n",
       "      <td>13.000000</td>\n",
       "      <td>62.800000</td>\n",
       "      <td>84.000000</td>\n",
       "    </tr>\n",
       "    <tr>\n",
       "      <th>25%</th>\n",
       "      <td>13.000000</td>\n",
       "      <td>63.500000</td>\n",
       "      <td>98.000000</td>\n",
       "    </tr>\n",
       "    <tr>\n",
       "      <th>50%</th>\n",
       "      <td>13.000000</td>\n",
       "      <td>65.300000</td>\n",
       "      <td>102.500000</td>\n",
       "    </tr>\n",
       "    <tr>\n",
       "      <th>75%</th>\n",
       "      <td>14.000000</td>\n",
       "      <td>65.500000</td>\n",
       "      <td>102.500000</td>\n",
       "    </tr>\n",
       "    <tr>\n",
       "      <th>max</th>\n",
       "      <td>14.000000</td>\n",
       "      <td>69.000000</td>\n",
       "      <td>112.500000</td>\n",
       "    </tr>\n",
       "  </tbody>\n",
       "</table>\n",
       "</div>"
      ],
      "text/plain": [
       "             Age     Height      Weight\n",
       "count   5.000000   5.000000    5.000000\n",
       "mean   13.400000  65.220000   99.900000\n",
       "std     0.547723   2.407696   10.352536\n",
       "min    13.000000  62.800000   84.000000\n",
       "25%    13.000000  63.500000   98.000000\n",
       "50%    13.000000  65.300000  102.500000\n",
       "75%    14.000000  65.500000  102.500000\n",
       "max    14.000000  69.000000  112.500000"
      ]
     },
     "execution_count": 37,
     "metadata": {},
     "output_type": "execute_result"
    }
   ],
   "source": [
    "students_df.describe()"
   ]
  },
  {
   "cell_type": "markdown",
   "metadata": {},
   "source": [
    "Question 4.5: Complete the statement below to find the Pearson's correlation coefficient for **Age** versus **Height** and **Age** versus **Weight**?\n",
    "\n",
    "Answer 4.5: **Age vs Height:** 0.257820. **Age vs Weight:** 0.670156."
   ]
  },
  {
   "cell_type": "code",
   "execution_count": 38,
   "metadata": {},
   "outputs": [
    {
     "data": {
      "text/html": [
       "<div>\n",
       "<style scoped>\n",
       "    .dataframe tbody tr th:only-of-type {\n",
       "        vertical-align: middle;\n",
       "    }\n",
       "\n",
       "    .dataframe tbody tr th {\n",
       "        vertical-align: top;\n",
       "    }\n",
       "\n",
       "    .dataframe thead th {\n",
       "        text-align: right;\n",
       "    }\n",
       "</style>\n",
       "<table border=\"1\" class=\"dataframe\">\n",
       "  <thead>\n",
       "    <tr style=\"text-align: right;\">\n",
       "      <th></th>\n",
       "      <th>Age</th>\n",
       "      <th>Height</th>\n",
       "      <th>Weight</th>\n",
       "    </tr>\n",
       "  </thead>\n",
       "  <tbody>\n",
       "    <tr>\n",
       "      <th>Age</th>\n",
       "      <td>1.000000</td>\n",
       "      <td>0.257820</td>\n",
       "      <td>0.670156</td>\n",
       "    </tr>\n",
       "    <tr>\n",
       "      <th>Height</th>\n",
       "      <td>0.257820</td>\n",
       "      <td>1.000000</td>\n",
       "      <td>0.323561</td>\n",
       "    </tr>\n",
       "    <tr>\n",
       "      <th>Weight</th>\n",
       "      <td>0.670156</td>\n",
       "      <td>0.323561</td>\n",
       "      <td>1.000000</td>\n",
       "    </tr>\n",
       "  </tbody>\n",
       "</table>\n",
       "</div>"
      ],
      "text/plain": [
       "             Age    Height    Weight\n",
       "Age     1.000000  0.257820  0.670156\n",
       "Height  0.257820  1.000000  0.323561\n",
       "Weight  0.670156  0.323561  1.000000"
      ]
     },
     "execution_count": 38,
     "metadata": {},
     "output_type": "execute_result"
    }
   ],
   "source": [
    "students_df.corr()"
   ]
  },
  {
   "cell_type": "markdown",
   "metadata": {},
   "source": [
    "Question 4.6: True or False: Weight is a better predictor of Age than height. \n",
    "\n",
    "Answer 4.6: **True**"
   ]
  },
  {
   "cell_type": "markdown",
   "metadata": {},
   "source": [
    "Question 4.7: We just received the grade information for these students:\n",
    "\n",
    "| Name | Grade | \n",
    "| --- | --- | \n",
    "| Alfred | 8|\n",
    "| Alice | 7 | \n",
    "| Barbara | 6 | \n",
    "| Carol | 8 | \n",
    "| Henry | 8 | \n",
    "\n",
    "Complete the statement below to add a \"Grade\" column to the DataFrame.\n"
   ]
  },
  {
   "cell_type": "code",
   "execution_count": 39,
   "metadata": {},
   "outputs": [
    {
     "data": {
      "text/html": [
       "<div>\n",
       "<style scoped>\n",
       "    .dataframe tbody tr th:only-of-type {\n",
       "        vertical-align: middle;\n",
       "    }\n",
       "\n",
       "    .dataframe tbody tr th {\n",
       "        vertical-align: top;\n",
       "    }\n",
       "\n",
       "    .dataframe thead th {\n",
       "        text-align: right;\n",
       "    }\n",
       "</style>\n",
       "<table border=\"1\" class=\"dataframe\">\n",
       "  <thead>\n",
       "    <tr style=\"text-align: right;\">\n",
       "      <th></th>\n",
       "      <th>Name</th>\n",
       "      <th>Sex</th>\n",
       "      <th>Age</th>\n",
       "      <th>Height</th>\n",
       "      <th>Weight</th>\n",
       "      <th>Grade</th>\n",
       "    </tr>\n",
       "  </thead>\n",
       "  <tbody>\n",
       "    <tr>\n",
       "      <th>0</th>\n",
       "      <td>Alfred</td>\n",
       "      <td>M</td>\n",
       "      <td>14</td>\n",
       "      <td>69.0</td>\n",
       "      <td>112.5</td>\n",
       "      <td>8</td>\n",
       "    </tr>\n",
       "    <tr>\n",
       "      <th>1</th>\n",
       "      <td>Alice</td>\n",
       "      <td>F</td>\n",
       "      <td>13</td>\n",
       "      <td>65.5</td>\n",
       "      <td>84.0</td>\n",
       "      <td>7</td>\n",
       "    </tr>\n",
       "    <tr>\n",
       "      <th>2</th>\n",
       "      <td>Barbara</td>\n",
       "      <td>F</td>\n",
       "      <td>13</td>\n",
       "      <td>65.3</td>\n",
       "      <td>98.0</td>\n",
       "      <td>6</td>\n",
       "    </tr>\n",
       "    <tr>\n",
       "      <th>3</th>\n",
       "      <td>Carol</td>\n",
       "      <td>F</td>\n",
       "      <td>14</td>\n",
       "      <td>62.8</td>\n",
       "      <td>102.5</td>\n",
       "      <td>8</td>\n",
       "    </tr>\n",
       "    <tr>\n",
       "      <th>4</th>\n",
       "      <td>Henry</td>\n",
       "      <td>M</td>\n",
       "      <td>13</td>\n",
       "      <td>63.5</td>\n",
       "      <td>102.5</td>\n",
       "      <td>8</td>\n",
       "    </tr>\n",
       "  </tbody>\n",
       "</table>\n",
       "</div>"
      ],
      "text/plain": [
       "      Name Sex  Age  Height  Weight  Grade\n",
       "0   Alfred   M   14    69.0   112.5      8\n",
       "1    Alice   F   13    65.5    84.0      7\n",
       "2  Barbara   F   13    65.3    98.0      6\n",
       "3    Carol   F   14    62.8   102.5      8\n",
       "4    Henry   M   13    63.5   102.5      8"
      ]
     },
     "execution_count": 39,
     "metadata": {},
     "output_type": "execute_result"
    }
   ],
   "source": [
    "students_df['Grade'] = [8, 7, 6, 8, 8]\n",
    "students_df"
   ]
  },
  {
   "cell_type": "markdown",
   "metadata": {},
   "source": [
    "**BONUS QUESTION:**  The operation of transposing a table involves \"rotating\" the table so that the rows become columns and columns become rows.\n",
    "\n",
    "Using the methods for discovering what an object is capable of that we discussed\n",
    "in class, create a new DataFrame that is a transpose of the students_df DataFrame."
   ]
  },
  {
   "cell_type": "code",
   "execution_count": 40,
   "metadata": {},
   "outputs": [
    {
     "data": {
      "text/html": [
       "<div>\n",
       "<style scoped>\n",
       "    .dataframe tbody tr th:only-of-type {\n",
       "        vertical-align: middle;\n",
       "    }\n",
       "\n",
       "    .dataframe tbody tr th {\n",
       "        vertical-align: top;\n",
       "    }\n",
       "\n",
       "    .dataframe thead th {\n",
       "        text-align: right;\n",
       "    }\n",
       "</style>\n",
       "<table border=\"1\" class=\"dataframe\">\n",
       "  <thead>\n",
       "    <tr style=\"text-align: right;\">\n",
       "      <th></th>\n",
       "      <th>0</th>\n",
       "      <th>1</th>\n",
       "      <th>2</th>\n",
       "      <th>3</th>\n",
       "      <th>4</th>\n",
       "    </tr>\n",
       "  </thead>\n",
       "  <tbody>\n",
       "    <tr>\n",
       "      <th>Name</th>\n",
       "      <td>Alfred</td>\n",
       "      <td>Alice</td>\n",
       "      <td>Barbara</td>\n",
       "      <td>Carol</td>\n",
       "      <td>Henry</td>\n",
       "    </tr>\n",
       "    <tr>\n",
       "      <th>Sex</th>\n",
       "      <td>M</td>\n",
       "      <td>F</td>\n",
       "      <td>F</td>\n",
       "      <td>F</td>\n",
       "      <td>M</td>\n",
       "    </tr>\n",
       "    <tr>\n",
       "      <th>Age</th>\n",
       "      <td>14</td>\n",
       "      <td>13</td>\n",
       "      <td>13</td>\n",
       "      <td>14</td>\n",
       "      <td>13</td>\n",
       "    </tr>\n",
       "    <tr>\n",
       "      <th>Height</th>\n",
       "      <td>69</td>\n",
       "      <td>65.5</td>\n",
       "      <td>65.3</td>\n",
       "      <td>62.8</td>\n",
       "      <td>63.5</td>\n",
       "    </tr>\n",
       "    <tr>\n",
       "      <th>Weight</th>\n",
       "      <td>112.5</td>\n",
       "      <td>84</td>\n",
       "      <td>98</td>\n",
       "      <td>102.5</td>\n",
       "      <td>102.5</td>\n",
       "    </tr>\n",
       "    <tr>\n",
       "      <th>Grade</th>\n",
       "      <td>8</td>\n",
       "      <td>7</td>\n",
       "      <td>6</td>\n",
       "      <td>8</td>\n",
       "      <td>8</td>\n",
       "    </tr>\n",
       "  </tbody>\n",
       "</table>\n",
       "</div>"
      ],
      "text/plain": [
       "             0      1        2      3      4\n",
       "Name    Alfred  Alice  Barbara  Carol  Henry\n",
       "Sex          M      F        F      F      M\n",
       "Age         14     13       13     14     13\n",
       "Height      69   65.5     65.3   62.8   63.5\n",
       "Weight   112.5     84       98  102.5  102.5\n",
       "Grade        8      7        6      8      8"
      ]
     },
     "execution_count": 40,
     "metadata": {},
     "output_type": "execute_result"
    }
   ],
   "source": [
    "students_transposed_df = students_df.T\n",
    "students_transposed_df"
   ]
  },
  {
   "cell_type": "markdown",
   "metadata": {},
   "source": [
    "---\n",
    "# End of Final\n",
    "---"
   ]
  }
 ],
 "metadata": {
  "kernelspec": {
   "display_name": "Python 3",
   "language": "python",
   "name": "python3"
  },
  "language_info": {
   "codemirror_mode": {
    "name": "ipython",
    "version": 3
   },
   "file_extension": ".py",
   "mimetype": "text/x-python",
   "name": "python",
   "nbconvert_exporter": "python",
   "pygments_lexer": "ipython3",
   "version": "3.8.3"
  }
 },
 "nbformat": 4,
 "nbformat_minor": 4
}
